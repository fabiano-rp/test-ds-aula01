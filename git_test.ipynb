{
 "cells": [
  {
   "cell_type": "markdown",
   "metadata": {},
   "source": [
    "## Como subir repositório para o GitHub"
   ]
  },
  {
   "cell_type": "markdown",
   "metadata": {},
   "source": [
    "### Abra o prompt de comando\n",
    "###Defina seu diretório\n",
    "*dc \"diretório\"*\n",
    "#### Subindo o diretório:\n",
    "*git init*\n",
    "\n",
    "*git status*\n",
    "\n",
    "*git add* .\n",
    "\n",
    "*git commit -m \"alguma mensagem indicando a alteração\"*\n",
    "\n",
    "*git remote add origin \"endereço do repositório no Git\"*\n",
    "\n",
    "*git pull*\n",
    "\n",
    "*git push*\n"
   ]
  },
  {
   "cell_type": "code",
   "execution_count": null,
   "metadata": {},
   "outputs": [],
   "source": [
    "# git init\n",
    "# git status\n",
    "# git add .\n",
    "# git commit -m \"mensagem\"\n",
    "# git remote add origin https://github.com/fabiano-rp/test-ds-aula01.git"
   ]
  }
 ],
 "metadata": {
  "kernelspec": {
   "display_name": "Python 3.10.5 64-bit",
   "language": "python",
   "name": "python3"
  },
  "language_info": {
   "codemirror_mode": {
    "name": "ipython",
    "version": 3
   },
   "file_extension": ".py",
   "mimetype": "text/x-python",
   "name": "python",
   "nbconvert_exporter": "python",
   "pygments_lexer": "ipython3",
   "version": "3.10.5"
  },
  "orig_nbformat": 4,
  "vscode": {
   "interpreter": {
    "hash": "012fc4b97dee2f8a2b50ce4ac3cc965bf15f115f0871965fc514db983accac2a"
   }
  }
 },
 "nbformat": 4,
 "nbformat_minor": 2
}
